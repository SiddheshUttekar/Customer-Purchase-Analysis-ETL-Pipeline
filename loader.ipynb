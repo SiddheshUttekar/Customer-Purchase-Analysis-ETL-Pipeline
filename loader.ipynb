{
 "cells": [
  {
   "cell_type": "code",
   "execution_count": 0,
   "metadata": {
    "application/vnd.databricks.v1+cell": {
     "cellMetadata": {
      "byteLimit": 2048000,
      "rowLimit": 10000
     },
     "inputWidgets": {},
     "nuid": "701d6315-59d2-4be7-9474-ca9496fbfb12",
     "showTitle": false,
     "title": ""
    }
   },
   "outputs": [],
   "source": [
    "class DataSink:\n",
    "    def __init__(self, df, path, method):\n",
    "        self.df = df\n",
    "        self.path = path\n",
    "        self.method = method\n",
    "\n",
    "    def load_data_frame(self):\n",
    "        self.df.write.mode(self.method).format(\"parquet\").save(self.path)\n",
    "\n",
    "class CustomerTransactionLoader:\n",
    "    def __init__(self, dataframes):\n",
    "        self.airpodsAfterIphoneDF = dataframes[0]\n",
    "        self.iphoneAirpodsTogetherDF = dataframes[1]\n",
    "\n",
    "    def load(self):\n",
    "        DataSink(\n",
    "            self.airpodsAfterIphoneDF,\n",
    "            \"/FileStore/output/airpods_after_iphone\",\n",
    "            \"overwrite\"\n",
    "        ).load_data_frame()\n",
    "\n",
    "        DataSink(\n",
    "            self.iphoneAirpodsTogetherDF,\n",
    "            \"/FileStore/output/iphone_airpods_together\",\n",
    "            \"overwrite\"\n",
    "        ).load_data_frame()"
   ]
  }
 ],
 "metadata": {
  "application/vnd.databricks.v1+notebook": {
   "dashboards": [],
   "environmentMetadata": null,
   "language": "python",
   "notebookMetadata": {
    "pythonIndentUnit": 4
   },
   "notebookName": "loader",
   "widgets": {}
  }
 },
 "nbformat": 4,
 "nbformat_minor": 0
}
