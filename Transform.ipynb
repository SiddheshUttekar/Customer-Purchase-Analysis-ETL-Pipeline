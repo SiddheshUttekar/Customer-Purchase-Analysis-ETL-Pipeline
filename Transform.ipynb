{
 "cells": [
  {
   "cell_type": "code",
   "execution_count": 0,
   "metadata": {
    "application/vnd.databricks.v1+cell": {
     "cellMetadata": {
      "byteLimit": 2048000,
      "rowLimit": 10000
     },
     "inputWidgets": {},
     "nuid": "7a661afc-4050-4a5a-801a-2bedd7837635",
     "showTitle": false,
     "title": ""
    }
   },
   "outputs": [],
   "source": [
    "from pyspark.sql import Window"
   ]
  },
  {
   "cell_type": "code",
   "execution_count": 0,
   "metadata": {
    "application/vnd.databricks.v1+cell": {
     "cellMetadata": {
      "byteLimit": 2048000,
      "rowLimit": 10000
     },
     "inputWidgets": {},
     "nuid": "0cec682d-e460-4293-b2c4-b05f45a6219b",
     "showTitle": false,
     "title": ""
    }
   },
   "outputs": [],
   "source": [
    "from pyspark.sql.functions import *"
   ]
  },
  {
   "cell_type": "code",
   "execution_count": 0,
   "metadata": {
    "application/vnd.databricks.v1+cell": {
     "cellMetadata": {
      "byteLimit": 2048000,
      "rowLimit": 10000
     },
     "inputWidgets": {},
     "nuid": "f158b10c-8316-4722-9204-79fd9e96f4c0",
     "showTitle": false,
     "title": ""
    }
   },
   "outputs": [],
   "source": [
    "class Transformer:\n",
    "    def transform(self, inputDFs):    \n",
    "        pass\n",
    "\n",
    "\n",
    "class CustomerTransactionTransformater(Transformer):\n",
    "    def transform(self, inputDFs):\n",
    "        transactionDF = inputDFs[\"transactionInputDF\"]\n",
    "        customerDF = inputDFs[\"customerInputDF\"]\n",
    "   \n",
    "        windowSpec = Window.partitionBy(\"customer_id\").orderBy(\"transaction_date\")\n",
    "\n",
    "        # Transformation: Adding lead and lag\n",
    "        transactionWithLeadLagDF = transactionDF.withColumn(\n",
    "            \"Next_product\", lead(\"product_name\", 1).over(windowSpec)\n",
    "        ).withColumn(\n",
    "            \"Previous_product\", lag(\"product_name\", 1).over(windowSpec)\n",
    "        )\n",
    "\n",
    "        print(\"Transactions Data with Lead and Lag:\")\n",
    "        transactionWithLeadLagDF.show()\n",
    "\n",
    "        # Business Logic 1: Customers who bought AirPods after buying iPhone\n",
    "        airpodsAfterIphoneDF = transactionWithLeadLagDF.filter(\n",
    "            (col(\"product_name\") == \"iPhone\") & (col(\"Next_product\") == \"AirPods\")\n",
    "        ).select(\"customer_id\").distinct()\n",
    "\n",
    "        # Result\n",
    "        airPodResultDF = airpodsAfterIphoneDF.join(customerDF, \"customer_id\")\n",
    "\n",
    "        # Business Logic 2: Customers who bought both iPhone and AirPods\n",
    "        airpodsIphoneDF = transactionDF.groupBy(\"customer_id\").agg(\n",
    "            countDistinct(\"product_name\").alias(\"product_count\")\n",
    "        ).filter(col(\"product_count\") == 2)\n",
    "\n",
    "        # Result 2\n",
    "        airpodsIphoneResultDF = airpodsIphoneDF.join(customerDF, \"customer_id\")\n",
    "\n",
    "        return airPodResultDF, airpodsIphoneResultDF\n",
    "\n",
    "   "
   ]
  }
 ],
 "metadata": {
  "application/vnd.databricks.v1+notebook": {
   "dashboards": [],
   "environmentMetadata": null,
   "language": "python",
   "notebookMetadata": {
    "pythonIndentUnit": 4
   },
   "notebookName": "Transform",
   "widgets": {}
  }
 },
 "nbformat": 4,
 "nbformat_minor": 0
}
