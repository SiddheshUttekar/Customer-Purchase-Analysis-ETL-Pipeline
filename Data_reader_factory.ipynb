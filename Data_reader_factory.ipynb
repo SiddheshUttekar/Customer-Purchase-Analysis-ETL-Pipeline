{
 "cells": [
  {
   "cell_type": "code",
   "execution_count": 0,
   "metadata": {
    "application/vnd.databricks.v1+cell": {
     "cellMetadata": {
      "byteLimit": 2048000,
      "rowLimit": 10000
     },
     "inputWidgets": {},
     "nuid": "6dc64ce8-be19-4a18-a4c9-36d9d5a6feb0",
     "showTitle": false,
     "title": ""
    }
   },
   "outputs": [],
   "source": [
    "from pyspark.sql import SparkSession"
   ]
  },
  {
   "cell_type": "code",
   "execution_count": 0,
   "metadata": {
    "application/vnd.databricks.v1+cell": {
     "cellMetadata": {
      "byteLimit": 2048000,
      "rowLimit": 10000
     },
     "inputWidgets": {},
     "nuid": "a8405f2b-d6a5-45d6-b0e9-ae9dd617fbba",
     "showTitle": false,
     "title": ""
    }
   },
   "outputs": [],
   "source": [
    "class DataSource:\n",
    "    def __init__(self,path):\n",
    "        self.path=path\n",
    "\n",
    "    def get_data_frame(self):\n",
    "        raise ValueError(\"Not Implemented\")\n",
    "\n",
    "\n",
    "class CSVDataSource(DataSource):\n",
    "    def get_data_frame(self):\n",
    "        return spark.read.format(\"csv\").option(\"header\",True).option(\"InferSchema\",True).load(self.path)\n",
    "    \n",
    "def get_data_source(data_type,file_path):\n",
    "        if data_type == \"csv\":\n",
    "           return CSVDataSource(file_path)\n",
    "        else:\n",
    "            raise ValueError(f\"Data Type{data_type} not implemented\")\n"
   ]
  }
 ],
 "metadata": {
  "application/vnd.databricks.v1+notebook": {
   "dashboards": [],
   "environmentMetadata": null,
   "language": "python",
   "notebookMetadata": {
    "pythonIndentUnit": 4
   },
   "notebookName": "Data_reader_factory",
   "widgets": {}
  }
 },
 "nbformat": 4,
 "nbformat_minor": 0
}
