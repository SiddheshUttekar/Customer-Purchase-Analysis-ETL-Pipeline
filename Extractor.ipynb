{
 "cells": [
  {
   "cell_type": "code",
   "execution_count": 0,
   "metadata": {
    "application/vnd.databricks.v1+cell": {
     "cellMetadata": {
      "byteLimit": 2048000,
      "rowLimit": 10000
     },
     "inputWidgets": {},
     "nuid": "60d7a786-1ac2-43f6-9e35-a54ad1124bc3",
     "showTitle": false,
     "title": ""
    }
   },
   "outputs": [],
   "source": [
    "%run \"./Data_reader_factory\""
   ]
  },
  {
   "cell_type": "code",
   "execution_count": 0,
   "metadata": {
    "application/vnd.databricks.v1+cell": {
     "cellMetadata": {
      "byteLimit": 2048000,
      "rowLimit": 10000
     },
     "inputWidgets": {},
     "nuid": "ce0bccbf-8289-4cc9-8ef9-6d7f9ca098db",
     "showTitle": false,
     "title": ""
    }
   },
   "outputs": [],
   "source": [
    "class CustomerTransactionExtractor(Extractor):\n",
    "    def extract(self):\n",
    "        transactionInputDF = get_data_source(\n",
    "            data_type=\"csv\",\n",
    "            file_path=\"/FileStore/tables/appleTransaction.csv\"\n",
    "        ).get_data_frame()\n",
    "\n",
    "        customerInputDF = get_data_source(\n",
    "            data_type=\"csv\",\n",
    "            file_path=\"/FileStore/tables/appleCustomer.csv\"\n",
    "        ).get_data_frame()\n",
    "\n",
    "        inputDFs = {\n",
    "            \"transactionInputDF\": transactionInputDF,\n",
    "            \"customerInputDF\": customerInputDF\n",
    "        }\n",
    "\n",
    "        return inputDFs\n",
    "\n",
    "\n"
   ]
  }
 ],
 "metadata": {
  "application/vnd.databricks.v1+notebook": {
   "dashboards": [],
   "environmentMetadata": null,
   "language": "python",
   "notebookMetadata": {
    "pythonIndentUnit": 4
   },
   "notebookName": "Extractor",
   "widgets": {}
  }
 },
 "nbformat": 4,
 "nbformat_minor": 0
}
