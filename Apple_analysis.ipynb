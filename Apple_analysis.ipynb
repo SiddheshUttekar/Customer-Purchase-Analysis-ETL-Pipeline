{
 "cells": [
  {
   "cell_type": "code",
   "execution_count": 0,
   "metadata": {
    "application/vnd.databricks.v1+cell": {
     "cellMetadata": {
      "byteLimit": 2048000,
      "rowLimit": 10000
     },
     "inputWidgets": {},
     "nuid": "9c989fa8-2411-4f3a-a255-a3c9394214f5",
     "showTitle": false,
     "title": ""
    }
   },
   "outputs": [],
   "source": [
    "%run \"./Transform\""
   ]
  },
  {
   "cell_type": "code",
   "execution_count": 0,
   "metadata": {
    "application/vnd.databricks.v1+cell": {
     "cellMetadata": {
      "byteLimit": 2048000,
      "rowLimit": 10000
     },
     "inputWidgets": {},
     "nuid": "3e0ddcc8-b207-4776-bc66-77131fb3b4b5",
     "showTitle": false,
     "title": ""
    }
   },
   "outputs": [],
   "source": [
    "%run \"./Extractor\""
   ]
  },
  {
   "cell_type": "code",
   "execution_count": 0,
   "metadata": {
    "application/vnd.databricks.v1+cell": {
     "cellMetadata": {
      "byteLimit": 2048000,
      "rowLimit": 10000
     },
     "inputWidgets": {},
     "nuid": "e36e75ea-b7b5-4074-b0bc-daa82b965170",
     "showTitle": false,
     "title": ""
    }
   },
   "outputs": [],
   "source": [
    "%run \"./loader\""
   ]
  },
  {
   "cell_type": "code",
   "execution_count": 0,
   "metadata": {
    "application/vnd.databricks.v1+cell": {
     "cellMetadata": {
      "byteLimit": 2048000,
      "rowLimit": 10000
     },
     "inputWidgets": {},
     "nuid": "9ade2fa0-d110-48fb-a018-39d88b5739db",
     "showTitle": false,
     "title": ""
    }
   },
   "outputs": [
    {
     "output_type": "stream",
     "name": "stdout",
     "output_type": "stream",
     "text": [
      "Transactions Data (Extracted):\n+-----------+------------+----------------+-----+\n|customer_id|product_name|transaction_date|sales|\n+-----------+------------+----------------+-----+\n|          1|      iPhone|      2023-01-01| 1000|\n|          1|     AirPods|      2023-01-15|  200|\n|          1|     MacBook|      2023-02-10| 1200|\n|          2|      iPhone|      2023-01-10| 1100|\n|          2|     AirPods|      2023-01-20|  210|\n|          2|     MacBook|      2023-02-15| 1500|\n|          2|     AirPods|      2023-03-01|  250|\n|          3|     MacBook|      2023-02-20|  800|\n|          3|     AirPods|      2023-02-25|  220|\n|          4|      iPhone|      2023-02-01| 1300|\n|          4|     AirPods|      2023-03-02|  230|\n|          5|      iPhone|      2023-01-01| 1000|\n|          5|     MacBook|      2023-01-10| 1100|\n|          5|     AirPods|      2023-01-20|  210|\n|          6|      iPhone|      2023-01-10| 1100|\n|          6|     AirPods|      2023-01-20|  220|\n+-----------+------------+----------------+-----+\n\nCustomers Data (Extracted):\n+-----------+-------------+-------------+\n|customer_id|customer_name|     location|\n+-----------+-------------+-------------+\n|          1|     John Doe|     New York|\n|          2|   Jane Smith|  Los Angeles|\n|          3|  Bob Johnson|      Chicago|\n|          4|  Alice Davis|      Houston|\n|          5|  Chris Green|San Francisco|\n|          6|   Lisa White|       Boston|\n+-----------+-------------+-------------+\n\nTransactions Data with Lead and Lag:\n+-----------+------------+----------------+-----+------------+----------------+\n|customer_id|product_name|transaction_date|sales|Next_product|Previous_product|\n+-----------+------------+----------------+-----+------------+----------------+\n|          1|      iPhone|      2023-01-01| 1000|     AirPods|            null|\n|          1|     AirPods|      2023-01-15|  200|     MacBook|          iPhone|\n|          1|     MacBook|      2023-02-10| 1200|        null|         AirPods|\n|          2|      iPhone|      2023-01-10| 1100|     AirPods|            null|\n|          2|     AirPods|      2023-01-20|  210|     MacBook|          iPhone|\n|          2|     MacBook|      2023-02-15| 1500|     AirPods|         AirPods|\n|          2|     AirPods|      2023-03-01|  250|        null|         MacBook|\n|          3|     MacBook|      2023-02-20|  800|     AirPods|            null|\n|          3|     AirPods|      2023-02-25|  220|        null|         MacBook|\n|          4|      iPhone|      2023-02-01| 1300|     AirPods|            null|\n|          4|     AirPods|      2023-03-02|  230|        null|          iPhone|\n|          5|      iPhone|      2023-01-01| 1000|     MacBook|            null|\n|          5|     MacBook|      2023-01-10| 1100|     AirPods|          iPhone|\n|          5|     AirPods|      2023-01-20|  210|        null|         MacBook|\n|          6|      iPhone|      2023-01-10| 1100|     AirPods|            null|\n|          6|     AirPods|      2023-01-20|  220|        null|          iPhone|\n+-----------+------------+----------------+-----+------------+----------------+\n\nTransformed Data (AirPods after iPhone):\n+-----------+-------------+-----------+\n|customer_id|customer_name|   location|\n+-----------+-------------+-----------+\n|          1|     John Doe|   New York|\n|          2|   Jane Smith|Los Angeles|\n|          4|  Alice Davis|    Houston|\n|          6|   Lisa White|     Boston|\n+-----------+-------------+-----------+\n\nTransformed Data (Both iPhone and AirPods purchases):\n+-----------+-------------+-------------+--------+\n|customer_id|product_count|customer_name|location|\n+-----------+-------------+-------------+--------+\n|          6|            2|   Lisa White|  Boston|\n|          3|            2|  Bob Johnson| Chicago|\n|          4|            2|  Alice Davis| Houston|\n+-----------+-------------+-------------+--------+\n\nFiles in output directory:\nairpods_after_iphone/\niphone_airpods_together/\n\nFiles in airpods_after_iphone directory:\n_SUCCESS\n_committed_1186513237154372978\n_committed_3485988258391786804\n_started_1186513237154372978\n_started_3485988258391786804\npart-00000-tid-1186513237154372978-62984759-e5c6-474c-937d-f332bbfbe9ed-121-1-c000.snappy.parquet\n\nFiles in iphone_airpods_together directory:\n_SUCCESS\n_committed_1951344658568482373\n_committed_6430417681504841993\n_started_1951344658568482373\n_started_6430417681504841993\npart-00000-tid-6430417681504841993-14731f55-5941-4290-9ba6-b59aa2a740a6-125-1-c000.snappy.parquet\n"
     ]
    }
   ],
   "source": [
    "class Workflow:\n",
    "    def runner(self):\n",
    "        # 1. Extract\n",
    "        extractor = CustomerTransactionExtractor()\n",
    "        inputDFs = extractor.extract()\n",
    "\n",
    "        # Display the extracted tables\n",
    "        print(\"Transactions Data (Extracted):\")\n",
    "        inputDFs[\"transactionInputDF\"].show()\n",
    "        \n",
    "        print(\"Customers Data (Extracted):\")\n",
    "        inputDFs[\"customerInputDF\"].show()\n",
    "     \n",
    "        # 2. Transform\n",
    "        transformer = CustomerTransactionTransformater()\n",
    "        airPodResultDF, airpodsIphoneResultDF = transformer.transform(inputDFs)\n",
    "\n",
    "        # Display the final data\n",
    "        print(\"Transformed Data (AirPods after iPhone):\")\n",
    "        airPodResultDF.show()\n",
    "\n",
    "        print(\"Transformed Data (Both iPhone and AirPods purchases):\")\n",
    "        airpodsIphoneResultDF.show()\n",
    "\n",
    "        # 3. Load \n",
    "        loader = CustomerTransactionLoader([airPodResultDF, airpodsIphoneResultDF])\n",
    "        loader.load()\n",
    "\n",
    "        # This will check if the data is loaded or not\n",
    "        self.check_loaded_data()\n",
    "\n",
    "    def check_loaded_data(self):\n",
    "        output_directory_path = \"/FileStore/output\"\n",
    "\n",
    "        # Check if the output directory exists\n",
    "        try:\n",
    "            output_files = dbutils.fs.ls(output_directory_path)\n",
    "            print(\"Files in output directory:\")\n",
    "            for file in output_files:\n",
    "                print(file.name)\n",
    "        except Exception as e:\n",
    "            print(f\"Error checking the output directory: {e}\")\n",
    "\n",
    "        # AirPods after iPhone\n",
    "        print(\"\\nFiles in airpods_after_iphone directory:\")\n",
    "        try:\n",
    "            airpods_after_iphone_files = dbutils.fs.ls(\"/FileStore/output/airpods_after_iphone\")\n",
    "            for file in airpods_after_iphone_files:\n",
    "                print(file.name)\n",
    "        except Exception as e:\n",
    "            print(f\"Error checking airpods_after_iphone directory: {e}\")\n",
    "\n",
    "        # iPhone and AirPods together\n",
    "        print(\"\\nFiles in iphone_airpods_together directory:\")\n",
    "        try:\n",
    "            iphone_airpods_together_files = dbutils.fs.ls(\"/FileStore/output/iphone_airpods_together\")\n",
    "            for file in iphone_airpods_together_files:\n",
    "                print(file.name)\n",
    "        except Exception as e:\n",
    "            print(f\"Error checking iphone_airpods_together directory: {e}\")\n",
    "\n",
    "\n",
    "wf = Workflow()\n",
    "wf.runner()\n",
    "\n"
   ]
  }
 ],
 "metadata": {
  "application/vnd.databricks.v1+notebook": {
   "dashboards": [],
   "environmentMetadata": null,
   "language": "python",
   "notebookMetadata": {
    "pythonIndentUnit": 4
   },
   "notebookName": "Apple_analysis",
   "widgets": {}
  }
 },
 "nbformat": 4,
 "nbformat_minor": 0
}
